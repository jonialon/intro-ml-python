{
  "nbformat": 4,
  "nbformat_minor": 0,
  "metadata": {
    "colab": {
      "provenance": [],
      "toc_visible": true,
      "authorship_tag": "ABX9TyMY/dsvfqGgql96Fg45rEGA",
      "include_colab_link": true
    },
    "kernelspec": {
      "name": "python3",
      "display_name": "Python 3"
    },
    "language_info": {
      "name": "python"
    }
  },
  "cells": [
    {
      "cell_type": "markdown",
      "metadata": {
        "id": "view-in-github",
        "colab_type": "text"
      },
      "source": [
        "<a href=\"https://colab.research.google.com/github/jonialon/intro-ml-python/blob/main/Scikit_learn.ipynb\" target=\"_parent\"><img src=\"https://colab.research.google.com/assets/colab-badge.svg\" alt=\"Open In Colab\"/></a>"
      ]
    },
    {
      "cell_type": "code",
      "execution_count": 1,
      "metadata": {
        "id": "J4FjHaTuxB8c"
      },
      "outputs": [],
      "source": [
        "import numpy as np\n",
        "import matplotlib.pyplot as plt\n",
        "from matplotlib.colors import ListedColormap\n",
        "\n",
        "from sklearn import datasets\n",
        "\n",
        "from sklearn.neighbors import KNeighborsClassifier\n",
        "from sklearn.linear_model import LinearRegression\n",
        "# from sklearn.linear_model import LogisticRegression\n",
        "# from sklearn.ensemble import RandomForestClassifier\n",
        "\n",
        "from sklearn.metrics import mean_squared_error, r2_score"
      ]
    },
    {
      "cell_type": "markdown",
      "source": [
        "# Scikit-Learn"
      ],
      "metadata": {
        "id": "fHZExBRJs07Z"
      }
    },
    {
      "cell_type": "markdown",
      "source": [
        "## Scikit-Learn — Data Representation\n",
        "\n",
        "- Data is represented by a two-dimensional grid, in which the rows represent individual elements of the dataset, and the columns represent quantities related to each of these elements.\n",
        "- Each row of the data refers to a single observed flower, and the number of rows is the total number of flowers in the dataset. We will refer to the rows of the matrix as **samples**, and the number of rows as **n_samples**.\n",
        "- Each column of the data refers to a particular quantitative piece of information that describes each sample. We will refer to the columns of the matrix as **features**, and the number of columns as **n_features**.\n"
      ],
      "metadata": {
        "id": "OafS3L-UqiHp"
      }
    },
    {
      "cell_type": "markdown",
      "source": [
        "### Scikit-Learn — Data Representation — Features Matrix\n",
        "\n",
        "- The **features matrix** is two-dimensional, with shape **[n_samples, n_features]**, and is most often contained in a NumPy array or a Pandas DataFrame, though some Scikit-Learn models also accept SciPy sparse matrices.\n",
        "- The **samples** (i.e., rows) always refer to the individual objects described by the dataset. For example, the sample might be a flower, a person, a document, an image, a sound file, a video, an astronomical object, or anything else you can describe with a set of quantitative measurements.\n",
        "- The **features** (i.e., columns) refer to the distinct observations that describe each sample in a quantitative manner. Features are generally real-valued, but may be Boolean or discrete-valued in some cases.\n",
        "- By convention, the **features matrix** is often stored in a variable named **X**."
      ],
      "metadata": {
        "id": "0AlF3GrLrEai"
      }
    },
    {
      "cell_type": "markdown",
      "source": [
        "### Scikit-Learn — Data Representation — Target Vector\n",
        "\n",
        "- The **target array** is usually one dimensional, with length n_samples, and is generally contained in a NumPy array or Pandas Series.\n",
        "- The **target array** may have continuous numerical values, or discrete classes/labels. (While some Scikit-Learn estimators do handle multiple target values in the form of a two-dimensional, **[n_samples, n_targets]** target array, we will primarily be working with the common case of a one-dimensional target array.)\n",
        "- By convention, the target vector is often stored in a variable named **y**.\n"
      ],
      "metadata": {
        "id": "Jzf-R-u3r4Cs"
      }
    },
    {
      "cell_type": "markdown",
      "source": [
        "## Scikit-Learn — API Basics\n",
        "\n",
        "The steps in using the Scikit-Learn API are as follows:\n",
        "1. Choose a class of model by importing the appropriate estimator class from Scikit-Learn.\n",
        "2. Choose model hyperparameters by instantiating this class with desired values.\n",
        "3. Arrange data into a features matrix and target vector following the discussion above.\n",
        "4. Fit the model to your data by calling the `fit()` method of the model instance.\n",
        "5. Apply the Model to new data:\n",
        "  - For supervised learning, often we predict labels and values for unknown data using the `predict()` method.\n",
        "  - For unsupervised learning, we often transform or infer properties of the data using the `transform()` or `predict()` method.\n",
        "6. Evaluate the model on the test data using Scikit-Learn `metrics` - classification accuracy for classification and MSE or R2 for regression.  \n"
      ],
      "metadata": {
        "id": "m4vuVbISoWXR"
      }
    },
    {
      "cell_type": "markdown",
      "source": [
        "## Scikit-Learn Guiding Principles\n",
        "\n",
        "- The Scikit-Learn API is designed with the following guiding principles in mind, as outlined in the [Scikit-Learn API paper](https://arxiv.org/abs/1309.0238):\n",
        "- **Consistency**: All objects share a common interface drawn from a limited set of methods, with consistent documentation.\n",
        "- **Inspection**: All specified parameter values are exposed as public attributes.\n",
        "- **Limited object hierarchy**: Only algorithms are represented by Python classes; datasets are represented in standard formats (NumPy arrays, Pandas DataFrames, SciPy sparse matrices) and parameter names use standard Python strings.\n",
        "- **Composition**: Many machine learning tasks can be expressed as sequences of more fundamental algorithms, and Scikit-Learn makes use of this wherever possible.\n",
        "- **Sensible defaults**: When models require user-specified parameters, the library defines an appropriate default value.\n"
      ],
      "metadata": {
        "id": "8uCeX47LpeK6"
      }
    },
    {
      "cell_type": "markdown",
      "source": [
        "## Scikit-learn Datasets\n",
        "\n",
        "https://scikit-learn.org/stable/datasets.html  "
      ],
      "metadata": {
        "id": "Aljb4uy3U3Ez"
      }
    },
    {
      "cell_type": "code",
      "source": [
        "# import some data to play with\n",
        "iris = datasets.load_iris()"
      ],
      "metadata": {
        "id": "9ojO8E6_TUHv"
      },
      "execution_count": 2,
      "outputs": []
    },
    {
      "cell_type": "code",
      "source": [
        "iris.keys()"
      ],
      "metadata": {
        "colab": {
          "base_uri": "https://localhost:8080/"
        },
        "id": "LpCIQbL0TWIQ",
        "outputId": "b83ca717-1a57-4bf7-a8dc-addc88c73dad"
      },
      "execution_count": 3,
      "outputs": [
        {
          "output_type": "execute_result",
          "data": {
            "text/plain": [
              "dict_keys(['data', 'target', 'frame', 'target_names', 'DESCR', 'feature_names', 'filename', 'data_module'])"
            ]
          },
          "metadata": {},
          "execution_count": 3
        }
      ]
    },
    {
      "cell_type": "code",
      "source": [
        "type(iris.data)"
      ],
      "metadata": {
        "colab": {
          "base_uri": "https://localhost:8080/"
        },
        "id": "Kypg72qHTwT0",
        "outputId": "cc73b9c4-f8cf-49dc-b1fe-e8b3d588270a"
      },
      "execution_count": 4,
      "outputs": [
        {
          "output_type": "execute_result",
          "data": {
            "text/plain": [
              "numpy.ndarray"
            ]
          },
          "metadata": {},
          "execution_count": 4
        }
      ]
    },
    {
      "cell_type": "code",
      "source": [
        "iris.data.shape"
      ],
      "metadata": {
        "colab": {
          "base_uri": "https://localhost:8080/"
        },
        "id": "Pap2F9AmT3vQ",
        "outputId": "e9229873-8e08-41a9-e013-36ef0fb39272"
      },
      "execution_count": 5,
      "outputs": [
        {
          "output_type": "execute_result",
          "data": {
            "text/plain": [
              "(150, 4)"
            ]
          },
          "metadata": {},
          "execution_count": 5
        }
      ]
    },
    {
      "cell_type": "code",
      "source": [
        "type(iris.target)"
      ],
      "metadata": {
        "colab": {
          "base_uri": "https://localhost:8080/"
        },
        "id": "aaiN1I2cT8Rw",
        "outputId": "ca3eceff-30be-496d-846e-798415ce9322"
      },
      "execution_count": 6,
      "outputs": [
        {
          "output_type": "execute_result",
          "data": {
            "text/plain": [
              "numpy.ndarray"
            ]
          },
          "metadata": {},
          "execution_count": 6
        }
      ]
    },
    {
      "cell_type": "code",
      "source": [
        "iris.target.shape"
      ],
      "metadata": {
        "colab": {
          "base_uri": "https://localhost:8080/"
        },
        "id": "35e0CPelT_0d",
        "outputId": "45aa209f-5fb3-400a-afa3-5609b8525a47"
      },
      "execution_count": 7,
      "outputs": [
        {
          "output_type": "execute_result",
          "data": {
            "text/plain": [
              "(150,)"
            ]
          },
          "metadata": {},
          "execution_count": 7
        }
      ]
    },
    {
      "cell_type": "code",
      "source": [
        "iris.target_names"
      ],
      "metadata": {
        "colab": {
          "base_uri": "https://localhost:8080/"
        },
        "id": "KiwwJA6KUEG_",
        "outputId": "3ae3dbdd-91eb-4a3b-bb67-30cf7e130ca0"
      },
      "execution_count": 8,
      "outputs": [
        {
          "output_type": "execute_result",
          "data": {
            "text/plain": [
              "array(['setosa', 'versicolor', 'virginica'], dtype='<U10')"
            ]
          },
          "metadata": {},
          "execution_count": 8
        }
      ]
    },
    {
      "cell_type": "code",
      "source": [
        "print(iris.DESCR)"
      ],
      "metadata": {
        "colab": {
          "base_uri": "https://localhost:8080/"
        },
        "id": "uBufxIWcUJwn",
        "outputId": "b871831f-f4d8-482c-a7eb-d9f48e52c990"
      },
      "execution_count": 9,
      "outputs": [
        {
          "output_type": "stream",
          "name": "stdout",
          "text": [
            ".. _iris_dataset:\n",
            "\n",
            "Iris plants dataset\n",
            "--------------------\n",
            "\n",
            "**Data Set Characteristics:**\n",
            "\n",
            "    :Number of Instances: 150 (50 in each of three classes)\n",
            "    :Number of Attributes: 4 numeric, predictive attributes and the class\n",
            "    :Attribute Information:\n",
            "        - sepal length in cm\n",
            "        - sepal width in cm\n",
            "        - petal length in cm\n",
            "        - petal width in cm\n",
            "        - class:\n",
            "                - Iris-Setosa\n",
            "                - Iris-Versicolour\n",
            "                - Iris-Virginica\n",
            "                \n",
            "    :Summary Statistics:\n",
            "\n",
            "    ============== ==== ==== ======= ===== ====================\n",
            "                    Min  Max   Mean    SD   Class Correlation\n",
            "    ============== ==== ==== ======= ===== ====================\n",
            "    sepal length:   4.3  7.9   5.84   0.83    0.7826\n",
            "    sepal width:    2.0  4.4   3.05   0.43   -0.4194\n",
            "    petal length:   1.0  6.9   3.76   1.76    0.9490  (high!)\n",
            "    petal width:    0.1  2.5   1.20   0.76    0.9565  (high!)\n",
            "    ============== ==== ==== ======= ===== ====================\n",
            "\n",
            "    :Missing Attribute Values: None\n",
            "    :Class Distribution: 33.3% for each of 3 classes.\n",
            "    :Creator: R.A. Fisher\n",
            "    :Donor: Michael Marshall (MARSHALL%PLU@io.arc.nasa.gov)\n",
            "    :Date: July, 1988\n",
            "\n",
            "The famous Iris database, first used by Sir R.A. Fisher. The dataset is taken\n",
            "from Fisher's paper. Note that it's the same as in R, but not as in the UCI\n",
            "Machine Learning Repository, which has two wrong data points.\n",
            "\n",
            "This is perhaps the best known database to be found in the\n",
            "pattern recognition literature.  Fisher's paper is a classic in the field and\n",
            "is referenced frequently to this day.  (See Duda & Hart, for example.)  The\n",
            "data set contains 3 classes of 50 instances each, where each class refers to a\n",
            "type of iris plant.  One class is linearly separable from the other 2; the\n",
            "latter are NOT linearly separable from each other.\n",
            "\n",
            ".. topic:: References\n",
            "\n",
            "   - Fisher, R.A. \"The use of multiple measurements in taxonomic problems\"\n",
            "     Annual Eugenics, 7, Part II, 179-188 (1936); also in \"Contributions to\n",
            "     Mathematical Statistics\" (John Wiley, NY, 1950).\n",
            "   - Duda, R.O., & Hart, P.E. (1973) Pattern Classification and Scene Analysis.\n",
            "     (Q327.D83) John Wiley & Sons.  ISBN 0-471-22361-1.  See page 218.\n",
            "   - Dasarathy, B.V. (1980) \"Nosing Around the Neighborhood: A New System\n",
            "     Structure and Classification Rule for Recognition in Partially Exposed\n",
            "     Environments\".  IEEE Transactions on Pattern Analysis and Machine\n",
            "     Intelligence, Vol. PAMI-2, No. 1, 67-71.\n",
            "   - Gates, G.W. (1972) \"The Reduced Nearest Neighbor Rule\".  IEEE Transactions\n",
            "     on Information Theory, May 1972, 431-433.\n",
            "   - See also: 1988 MLC Proceedings, 54-64.  Cheeseman et al\"s AUTOCLASS II\n",
            "     conceptual clustering system finds 3 classes in the data.\n",
            "   - Many, many more ...\n"
          ]
        }
      ]
    },
    {
      "cell_type": "code",
      "source": [
        "iris.feature_names"
      ],
      "metadata": {
        "colab": {
          "base_uri": "https://localhost:8080/"
        },
        "id": "VVb00rmBUXK3",
        "outputId": "8e50bfd5-7c25-4c5b-ed91-ba8c24efc304"
      },
      "execution_count": 10,
      "outputs": [
        {
          "output_type": "execute_result",
          "data": {
            "text/plain": [
              "['sepal length (cm)',\n",
              " 'sepal width (cm)',\n",
              " 'petal length (cm)',\n",
              " 'petal width (cm)']"
            ]
          },
          "metadata": {},
          "execution_count": 10
        }
      ]
    },
    {
      "cell_type": "code",
      "source": [
        "iris.filename"
      ],
      "metadata": {
        "colab": {
          "base_uri": "https://localhost:8080/",
          "height": 35
        },
        "id": "xaLiF-oxUbW4",
        "outputId": "2b725c3d-2c45-4618-99f2-78135d30ea69"
      },
      "execution_count": 11,
      "outputs": [
        {
          "output_type": "execute_result",
          "data": {
            "text/plain": [
              "'iris.csv'"
            ],
            "application/vnd.google.colaboratory.intrinsic+json": {
              "type": "string"
            }
          },
          "metadata": {},
          "execution_count": 11
        }
      ]
    },
    {
      "cell_type": "code",
      "source": [
        "iris.data_module"
      ],
      "metadata": {
        "colab": {
          "base_uri": "https://localhost:8080/",
          "height": 35
        },
        "id": "Omwd4PlhUhNL",
        "outputId": "ff196264-cd12-4b94-95f0-7278ae1d0473"
      },
      "execution_count": 12,
      "outputs": [
        {
          "output_type": "execute_result",
          "data": {
            "text/plain": [
              "'sklearn.datasets.data'"
            ],
            "application/vnd.google.colaboratory.intrinsic+json": {
              "type": "string"
            }
          },
          "metadata": {},
          "execution_count": 12
        }
      ]
    },
    {
      "cell_type": "markdown",
      "source": [
        "# Classification"
      ],
      "metadata": {
        "id": "GCgerIiQsuTR"
      }
    },
    {
      "cell_type": "markdown",
      "source": [
        "## K Nearest Neighbors (k-NN)\n",
        "\n",
        "- k-NN is the simplest supervised machine learning algorithm.\n",
        "- The K-nearest neighbor or k-NN is an algorithm to recognize the pattern in each dataset without explicitly learning a model.\n",
        "- k-NN is a non-parametric method to predict the output value based on k closest training examples.\n",
        "- **k-NN classification**: The objective is to classify an unknown object by finding the most common class nearest to its features.\n",
        "- **k-NN regression**: The output is based on the mean or the median of the K-most similar instances."
      ],
      "metadata": {
        "id": "TRWPuZFoP7vn"
      }
    },
    {
      "cell_type": "markdown",
      "source": [
        "- Pros:\n",
        "  - Simple to implement.\n",
        "  - Training is trivial.\n",
        "  - It can work with any number of classes.\n",
        "  - Easy to add more data.\n",
        "  - It has very few hyperparameters (K and distance metric).\n",
        "- Cons:\n",
        "  - It has high computation cost.\n",
        "  - It is not suitable for high dimensional data and categorical features."
      ],
      "metadata": {
        "id": "eIEBjk0qQXwJ"
      }
    },
    {
      "cell_type": "markdown",
      "source": [
        "### k-NN Implementation\n",
        "\n",
        "- k-NN is not explicitly learning a model and predicting the output by looking at all the examples together.\n",
        "- It makes the algorithm simple with minimal training phase but computationally costly during test time since classifying a given observation requires a rundown of the whole data set. The prediction algorithm works as follows:  \n",
        "  1. Calculate the distance from ‘x’ to all points in your data.\n",
        "  2. Sort the points in your data by increasing distance from x.\n",
        "  3. Predict the majority label of the “k” closest points."
      ],
      "metadata": {
        "id": "kQNhjMLcQvbj"
      }
    },
    {
      "cell_type": "code",
      "source": [
        "n_neighbors = 15\n",
        "\n",
        "# Import some data to play with\n",
        "iris = datasets.load_iris()\n",
        "# We only take the first two features\n",
        "X = iris.data[:, :2]\n",
        "y = iris.target\n",
        "\n",
        "h = .02  # step size in the mesh\n",
        "\n",
        "# Create color maps\n",
        "cmap_light = ListedColormap(['#FFAAAA', '#AAFFAA', '#AAAAFF'])\n",
        "cmap_bold = ListedColormap(['#FF0000', '#00FF00', '#0000FF'])\n",
        "\n",
        "# We create an instance of Neighbours Classifier and fit the data.\n",
        "clf = KNeighborsClassifier(n_neighbors)\n",
        "clf.fit(X, y)\n",
        "\n",
        "# Plot the decision boundary. For that, we will assign a color to each\n",
        "# point in the mesh [x_min, x_max]x[y_min, y_max].\n",
        "\n",
        "# Create mesh grid of points (xx[i,j] yy[i,j])\n",
        "x_min, x_max = X[:, 0].min() - 1, X[:, 0].max() + 1\n",
        "y_min, y_max = X[:, 1].min() - 1, X[:, 1].max() + 1\n",
        "xx, yy = np.meshgrid(np.arange(x_min, x_max, h),\n",
        "                      np.arange(y_min, y_max, h))\n",
        "\n",
        "# Predict the class Z[i,j] for every point (xx[i,j], yy[i,j])\n",
        "Z = clf.predict(np.c_[xx.ravel(), yy.ravel()])\n",
        "Z = Z.reshape(xx.shape)\n",
        "\n",
        "# Put the result into a color plot\n",
        "plt.figure()\n",
        "plt.pcolormesh(xx, yy, Z, cmap=cmap_light)\n",
        "\n",
        "# Plot also the training points\n",
        "plt.scatter(X[:, 0], X[:, 1], c=y, cmap=cmap_bold)\n",
        "plt.xlim(xx.min(), xx.max())\n",
        "plt.ylim(yy.min(), yy.max())\n",
        "plt.title(\"3-Class classification (k = %i)\"% (n_neighbors))\n",
        "\n",
        "plt.show()"
      ],
      "metadata": {
        "colab": {
          "base_uri": "https://localhost:8080/",
          "height": 452
        },
        "id": "iqHDwp-CQQtF",
        "outputId": "04191895-2500-4434-b5d8-2bd0504c5ed2"
      },
      "execution_count": 13,
      "outputs": [
        {
          "output_type": "display_data",
          "data": {
            "text/plain": [
              "<Figure size 640x480 with 1 Axes>"
            ],
            "image/png": "[encoded data removed]"
          },
          "metadata": {}
        }
      ]
    },
    {
      "cell_type": "markdown",
      "source": [
        "# Regression\n",
        "\n",
        "- Regression searches for relationships among variables.\n",
        "- For example, how **target** salary depends on **features**, such as experience, level of education, role, city employee works in, and so on.\n",
        "- This is a regression problem where data related to each employee represent one **observation**. The presumption is that the experience, education, role, and city are the **independent** features, while the salary **depends** on them.\n",
        "- As another example, how **target** house price depends on **features**, such as area, number of bedrooms, distance to the city center, and so on.\n",
        "- Generally, in regression analysis, you need to find a function that maps some features or variables to others sufficiently well.\n",
        "- The dependent features are called the **dependent variables**, **outputs**, **responses**, or **targets**.\n",
        "- The independent features are called the **independent variables**, **inputs**, **predictors**, or **features**.\n"
      ],
      "metadata": {
        "id": "nA21xx_ocRr4"
      }
    },
    {
      "cell_type": "markdown",
      "source": [
        "## Linear Regression\n",
        "\n",
        "- Linear regression is probably one of the most important and widely used regression techniques.\n",
        "- Linear regression is among the simplest regression methods.\n",
        "# - One of its main advantages is the ease of interpreting results."
      ],
      "metadata": {
        "id": "aJU1QF2YdTs9"
      }
    },
    {
      "cell_type": "markdown",
      "source": [
        "- The linear regression equation is given by:  \n",
        "$y = b_0 + b_1 * x + \\epsilon$, where\n",
        "- x is the predictor (independent) variable  \n",
        "- y is the target (dependent) variable\n",
        "- b0 and b1 are the regression **coefficients** or **parameters**  \n",
        "  - b0 is the **intercept**  \n",
        "  - b1 is the **slope**  \n",
        "\n",
        "- **Fit** — given a training set - pairs of data points $\\{(x_i, y_i)\\}_{i=1 : n}$ estimate or find the best $(b_0, b_1)$ that minimize the sum of square residuals $SSR = \\Sigma_i (y_i - (b_0 + b_1 * x_i))^2 $. This approach is called the method of **ordinary least squares**.\n",
        "- **Predict** — given a new observation $x_{test}$ find $y_{pred} = b_0 + b_1*x_{test}$  "
      ],
      "metadata": {
        "id": "oo6eBoz3eHQ3"
      }
    },
    {
      "cell_type": "code",
      "source": [
        "# Load the diabetes dataset\n",
        "diabetes_X, diabetes_y = datasets.load_diabetes(return_X_y=True)\n",
        "# Use only one feature\n",
        "diabetes_X = diabetes_X[:, np.newaxis, 2]\n",
        "# Split the data into training/testing sets\n",
        "diabetes_X_train = diabetes_X[:-20]\n",
        "diabetes_X_test = diabetes_X[-20:]\n",
        "# Split the targets into training/testing sets\n",
        "diabetes_y_train = diabetes_y[:-20]\n",
        "diabetes_y_test = diabetes_y[-20:]\n",
        "\n",
        "# Create linear regression object\n",
        "regr = LinearRegression()\n",
        "# Train the model using the training sets\n",
        "regr.fit(diabetes_X_train, diabetes_y_train)\n",
        "# Make predictions using the testing set\n",
        "diabetes_y_pred = regr.predict(diabetes_X_test)\n",
        "# The coefficients\n",
        "print('Coefficients (slope): \\n', regr.coef_)\n",
        "# The intercept\n",
        "print('Intercept: \\n', regr.intercept_)\n",
        "# The mean squared error\n",
        "print('Mean squared error: %.2f' % mean_squared_error(diabetes_y_test, diabetes_y_pred))\n",
        "# The coefficient of determination: 1 is perfect prediction\n",
        "print('Coefficient of determination: %.2f' % r2_score(diabetes_y_test, diabetes_y_pred))"
      ],
      "metadata": {
        "colab": {
          "base_uri": "https://localhost:8080/"
        },
        "id": "hRmvo8KTh43G",
        "outputId": "8a7e89b2-20fc-4482-8a92-c717ac3639c0"
      },
      "execution_count": 14,
      "outputs": [
        {
          "output_type": "stream",
          "name": "stdout",
          "text": [
            "Coefficients (slope): \n",
            " [938.23786125]\n",
            "Intercept: \n",
            " 152.91886182616113\n",
            "Mean squared error: 2548.07\n",
            "Coefficient of determination: 0.47\n"
          ]
        }
      ]
    },
    {
      "cell_type": "code",
      "source": [
        "# Plot outputs\n",
        "plt.scatter(diabetes_X_test, diabetes_y_test, color='black')\n",
        "plt.plot(diabetes_X_test, diabetes_y_pred, color='blue', linewidth=3)\n",
        "# plt.xticks(())\n",
        "# plt.yticks(())\n",
        "# plt.axis('equal')\n",
        "plt.show()"
      ],
      "metadata": {
        "colab": {
          "base_uri": "https://localhost:8080/",
          "height": 430
        },
        "id": "z1WgrFvxjYVf",
        "outputId": "65ad4d52-a6ed-420f-ae94-75d5585c4c9e"
      },
      "execution_count": 15,
      "outputs": [
        {
          "output_type": "display_data",
          "data": {
            "text/plain": [
              "<Figure size 640x480 with 1 Axes>"
            ],
            "image/png": "[encoded data removed]"
          },
          "metadata": {}
        }
      ]
    }
  ]
}